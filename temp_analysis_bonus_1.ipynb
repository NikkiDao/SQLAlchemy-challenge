{
 "cells": [
  {
   "cell_type": "markdown",
   "id": "4a26a5c3",
   "metadata": {},
   "source": [
    "## Bonus: Temperature Analysis I\n"
   ]
  },
  {
   "cell_type": "code",
   "execution_count": 1,
   "id": "1d95e522",
   "metadata": {},
   "outputs": [],
   "source": [
    "import pandas as pd\n",
    "import numpy as np\n",
    "from datetime import datetime as dt"
   ]
  },
  {
   "cell_type": "code",
   "execution_count": 2,
   "id": "07ec5276",
   "metadata": {
    "scrolled": true
   },
   "outputs": [
    {
     "data": {
      "text/html": [
       "<div>\n",
       "<style scoped>\n",
       "    .dataframe tbody tr th:only-of-type {\n",
       "        vertical-align: middle;\n",
       "    }\n",
       "\n",
       "    .dataframe tbody tr th {\n",
       "        vertical-align: top;\n",
       "    }\n",
       "\n",
       "    .dataframe thead th {\n",
       "        text-align: right;\n",
       "    }\n",
       "</style>\n",
       "<table border=\"1\" class=\"dataframe\">\n",
       "  <thead>\n",
       "    <tr style=\"text-align: right;\">\n",
       "      <th></th>\n",
       "      <th>station</th>\n",
       "      <th>prcp</th>\n",
       "      <th>tobs</th>\n",
       "    </tr>\n",
       "    <tr>\n",
       "      <th>date</th>\n",
       "      <th></th>\n",
       "      <th></th>\n",
       "      <th></th>\n",
       "    </tr>\n",
       "  </thead>\n",
       "  <tbody>\n",
       "    <tr>\n",
       "      <th>2010-01-01</th>\n",
       "      <td>USC00519397</td>\n",
       "      <td>0.08</td>\n",
       "      <td>65</td>\n",
       "    </tr>\n",
       "    <tr>\n",
       "      <th>2010-01-02</th>\n",
       "      <td>USC00519397</td>\n",
       "      <td>0.00</td>\n",
       "      <td>63</td>\n",
       "    </tr>\n",
       "    <tr>\n",
       "      <th>2010-01-03</th>\n",
       "      <td>USC00519397</td>\n",
       "      <td>0.00</td>\n",
       "      <td>74</td>\n",
       "    </tr>\n",
       "    <tr>\n",
       "      <th>2010-01-04</th>\n",
       "      <td>USC00519397</td>\n",
       "      <td>0.00</td>\n",
       "      <td>76</td>\n",
       "    </tr>\n",
       "    <tr>\n",
       "      <th>2010-01-06</th>\n",
       "      <td>USC00519397</td>\n",
       "      <td>NaN</td>\n",
       "      <td>73</td>\n",
       "    </tr>\n",
       "  </tbody>\n",
       "</table>\n",
       "</div>"
      ],
      "text/plain": [
       "                station  prcp  tobs\n",
       "date                               \n",
       "2010-01-01  USC00519397  0.08    65\n",
       "2010-01-02  USC00519397  0.00    63\n",
       "2010-01-03  USC00519397  0.00    74\n",
       "2010-01-04  USC00519397  0.00    76\n",
       "2010-01-06  USC00519397   NaN    73"
      ]
     },
     "execution_count": 2,
     "metadata": {},
     "output_type": "execute_result"
    }
   ],
   "source": [
    "# \"tobs\" is \"temperature observations\"\n",
    "# Convert the date column format from string to datetime\n",
    "# Set the date column as the DataFrame index\n",
    "\n",
    "df = pd.read_csv('Resources/hawaii_measurements.csv',parse_dates =['date'], index_col='date')\n",
    "df.head()"
   ]
  },
  {
   "cell_type": "markdown",
   "id": "0552960d",
   "metadata": {},
   "source": [
    "### Compare June and December data across all years"
   ]
  },
  {
   "cell_type": "code",
   "execution_count": 3,
   "id": "3b640453",
   "metadata": {},
   "outputs": [],
   "source": [
    " from scipy import stats"
   ]
  },
  {
   "cell_type": "code",
   "execution_count": 4,
   "id": "a7fd668e",
   "metadata": {
    "scrolled": true
   },
   "outputs": [
    {
     "data": {
      "text/plain": [
       "date\n",
       "2010-01-31    69.248756\n",
       "2010-02-28    67.398876\n",
       "2010-03-31    69.651982\n",
       "2010-04-30    71.030973\n",
       "2010-05-31    73.817073\n",
       "                ...    \n",
       "2017-04-30    73.652632\n",
       "2017-05-31    75.155172\n",
       "2017-06-30    77.219895\n",
       "2017-07-31    78.484536\n",
       "2017-08-31    78.824176\n",
       "Freq: M, Name: tobs, Length: 92, dtype: float64"
      ]
     },
     "execution_count": 4,
     "metadata": {},
     "output_type": "execute_result"
    }
   ],
   "source": [
    " # Filter data for desired months\n",
    "monthly_avg_tobs = df['tobs'].resample('M').mean()\n",
    "monthly_avg_tobs"
   ]
  },
  {
   "cell_type": "code",
   "execution_count": 11,
   "id": "d0c70705",
   "metadata": {
    "scrolled": true
   },
   "outputs": [
    {
     "name": "stdout",
     "output_type": "stream",
     "text": [
      "Average June tempurature for all stations from 2010-2017 is: 74.98 F\n",
      "date\n",
      "2010-06-30    74.925620\n",
      "2011-06-30    73.938326\n",
      "2012-06-30    74.000000\n",
      "2013-06-30    74.599078\n",
      "2014-06-30    75.027907\n",
      "2015-06-30    74.990148\n",
      "2016-06-30    75.175258\n",
      "2017-06-30    77.219895\n",
      "Name: tobs, dtype: float64\n"
     ]
    }
   ],
   "source": [
    "# Identify the average temperature for June\n",
    "# Create collections of temperature data\n",
    "june =monthly_avg_tobs.loc[['2010-06-30', '2011-06-30', '2012-06-30', '2013-06-30', '2014-06-30', '2015-06-30', '2016-06-30', '2017-06-30']]\n",
    "june_mean = np.mean(june)\n",
    "\n",
    "print(f\"Average June tempurature for all stations from 2010-2017 is: {round(june_mean,2)} F\")\n",
    "print(june)"
   ]
  },
  {
   "cell_type": "code",
   "execution_count": 12,
   "id": "1da360f1",
   "metadata": {},
   "outputs": [
    {
     "name": "stdout",
     "output_type": "stream",
     "text": [
      "Average December tempurature for all stations from 2010-2016 is: 71.11 F\n",
      "date\n",
      "2010-12-31    70.208511\n",
      "2011-12-31    70.820628\n",
      "2012-12-31    71.188073\n",
      "2013-12-31    71.094017\n",
      "2014-12-31    69.896861\n",
      "2015-12-31    73.423913\n",
      "2016-12-31    71.130000\n",
      "Name: tobs, dtype: float64\n"
     ]
    }
   ],
   "source": [
    "# Identify the average temperature for December\n",
    "# Create collections of temperature data\n",
    "dec = monthly_avg_tobs.loc[['2010-12-31','2011-12-31', '2012-12-31', '2013-12-31', '2014-12-31', '2015-12-31', '2016-12-31']]\n",
    "dec_mean = np.mean(dec)\n",
    "\n",
    "print(f\"Average December tempurature for all stations from 2010-2016 is: {round(dec_mean,2)} F\")\n",
    "print(dec)"
   ]
  },
  {
   "cell_type": "code",
   "execution_count": 21,
   "id": "53c58378",
   "metadata": {},
   "outputs": [
    {
     "data": {
      "text/plain": [
       "Ttest_indResult(statistic=6.9218571747346616, pvalue=1.4518830376438732e-05)"
      ]
     },
     "execution_count": 21,
     "metadata": {},
     "output_type": "execute_result"
    }
   ],
   "source": [
    " # Run unpaired t-test between June and Dec Temps\n",
    "sp.stats.ttest_ind(june, dec, equal_var=False)"
   ]
  },
  {
   "cell_type": "markdown",
   "id": "cae1cc25",
   "metadata": {},
   "source": [
    "### Analysis"
   ]
  },
  {
   "cell_type": "markdown",
   "id": "a2ecd617",
   "metadata": {},
   "source": [
    "Above is the result of an unpaired t-test, as the data is distinct i.e. June(summer) and December(winter), we assume the variance between the two groups is to be equal. Hence, we use (equal_var=False) in our code.\n",
    "<br> \n",
    "<br>\n",
    "The p-value here is 1.45e-5  which is equivilent as 0.0000145, therefore, we are rejecting the null hypothesis.\n",
    "<br>\n",
    "We can say that our results are statistically significant because our p-value here is less than 0.05."
   ]
  },
  {
   "cell_type": "code",
   "execution_count": null,
   "id": "c6861153",
   "metadata": {},
   "outputs": [],
   "source": []
  }
 ],
 "metadata": {
  "hide_input": false,
  "kernelspec": {
   "display_name": "Python 3 (ipykernel)",
   "language": "python",
   "name": "python3"
  },
  "language_info": {
   "codemirror_mode": {
    "name": "ipython",
    "version": 3
   },
   "file_extension": ".py",
   "mimetype": "text/x-python",
   "name": "python",
   "nbconvert_exporter": "python",
   "pygments_lexer": "ipython3",
   "version": "3.9.7"
  }
 },
 "nbformat": 4,
 "nbformat_minor": 5
}
